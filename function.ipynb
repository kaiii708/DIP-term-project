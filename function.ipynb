{
 "cells": [
  {
   "cell_type": "code",
   "execution_count": null,
   "metadata": {},
   "outputs": [],
   "source": [
    "import cv2\n",
    "import numpy as np\n",
    "from numpy import unravel_index\n",
    "from matplotlib import pyplot as plt\n",
    "import math"
   ]
  },
  {
   "cell_type": "code",
   "execution_count": null,
   "metadata": {},
   "outputs": [],
   "source": [
    "#energy function\n",
    "def L1_norm(g_r,g_c):\n",
    "    return abs(g_r)+abs(g_c)\n",
    "\n",
    "def L2_norm(g_r,g_c):\n",
    "    return math.hypot(g_r,g_c)\n",
    "\n",
    "# def entropy():\n",
    "#     return\n",
    "\n",
    "# def HOG():\n",
    "#     return\n",
    "\n",
    "def g_magntitue_and_orientation(img,row_grad_mask,col_grad_mask,norm):\n",
    "    height,width = img.shape\n",
    "    kernel_size=row_grad_mask.shape[0]\n",
    "    pad_size = kernel_size//2\n",
    "    # pad_img = cv2.copyMakeBorder(img,pad_size,pad_size,pad_size,pad_size,cv2.BORDER_REFLECT)\n",
    "    pad_img = np.pad(img,(pad_size,pad_size),'edge')\n",
    "    G= np.zeros(pad_img.shape)\n",
    "    O= np.zeros(pad_img.shape)\n",
    "    for i in range(pad_size,pad_size+height):\n",
    "        for j in range(pad_size,pad_size+width):\n",
    "            window = pad_img[i-pad_size:i+pad_size+1,j-pad_size:j+pad_size+1]\n",
    "            g_r = (row_grad_mask*window).sum()\n",
    "            g_c = (col_grad_mask*window).sum()\n",
    "            if norm == 'L2':\n",
    "                g = L2_norm(g_r,g_c)\n",
    "            # elif norm == 'HOG':\n",
    "            # elif norm == 'E':\n",
    "            else:\n",
    "                g = L1_norm(g_r,g_c)\n",
    "            o = math.degrees(math.atan2(g_c,g_r))\n",
    "            G[i,j]=g\n",
    "            O[i,j]=o\n",
    "    return G[pad_size:pad_size+height,pad_size:pad_size+width],O[pad_size:pad_size+height,pad_size:pad_size+width]\n",
    "\n",
    "def sobel_gradient(img,norm):\n",
    "    K=2\n",
    "    row_grad_mask =np.array([[-1,0,1],[-K,0,K],[-1,0,1]])/(K+2)\n",
    "    col_grad_mask =np.array([[1,K,1],[0,0,0],[-1,-K,-1]])/(K+2)\n",
    "    return g_magntitue_and_orientation(img,row_grad_mask,col_grad_mask,norm)\n",
    "\n",
    "# def convolution(img,kernel):\n",
    "#     height,width = img.shape\n",
    "#     kernel_size=kernel.shape[0]\n",
    "#     pad_size = kernel_size//2\n",
    "#     pad_img = np.pad(img,(pad_size,pad_size),'edge')\n",
    "#     G= np.zeros(pad_img.shape)\n",
    "#     for i in range(pad_size,pad_size+height):\n",
    "#         for j in range(pad_size,pad_size+width):\n",
    "#             window = pad_img[i-pad_size:i+pad_size+1,j-pad_size:j+pad_size+1]\n",
    "#             window=window[::-1,::-1]\n",
    "#             G[i,j]=(window*kernel).sum()\n",
    "#     return G[pad_size:pad_size+height,pad_size:pad_size+width]"
   ]
  }
 ],
 "metadata": {
  "language_info": {
   "name": "python"
  },
  "orig_nbformat": 4
 },
 "nbformat": 4,
 "nbformat_minor": 2
}
